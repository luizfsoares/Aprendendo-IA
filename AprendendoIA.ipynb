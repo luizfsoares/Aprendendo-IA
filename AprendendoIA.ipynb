{
 "cells": [
  {
   "cell_type": "code",
   "execution_count": 6,
   "metadata": {},
   "outputs": [
    {
     "data": {
      "text/html": [
       "<div>\n",
       "<style scoped>\n",
       "    .dataframe tbody tr th:only-of-type {\n",
       "        vertical-align: middle;\n",
       "    }\n",
       "\n",
       "    .dataframe tbody tr th {\n",
       "        vertical-align: top;\n",
       "    }\n",
       "\n",
       "    .dataframe thead th {\n",
       "        text-align: right;\n",
       "    }\n",
       "</style>\n",
       "<table border=\"1\" class=\"dataframe\">\n",
       "  <thead>\n",
       "    <tr style=\"text-align: right;\">\n",
       "      <th></th>\n",
       "      <th>identificador</th>\n",
       "      <th>nome</th>\n",
       "      <th>idade</th>\n",
       "      <th>sexo</th>\n",
       "      <th>peso</th>\n",
       "      <th>manchas</th>\n",
       "      <th>temperatura</th>\n",
       "      <th>internacoes</th>\n",
       "      <th>estado</th>\n",
       "      <th>diagnostico</th>\n",
       "    </tr>\n",
       "  </thead>\n",
       "  <tbody>\n",
       "    <tr>\n",
       "      <td>0</td>\n",
       "      <td>4201</td>\n",
       "      <td>Joao</td>\n",
       "      <td>28</td>\n",
       "      <td>M</td>\n",
       "      <td>67</td>\n",
       "      <td>Concentradas</td>\n",
       "      <td>38.0</td>\n",
       "      <td>2</td>\n",
       "      <td>SP</td>\n",
       "      <td>Doente</td>\n",
       "    </tr>\n",
       "    <tr>\n",
       "      <td>1</td>\n",
       "      <td>3217</td>\n",
       "      <td>Maria</td>\n",
       "      <td>18</td>\n",
       "      <td>F</td>\n",
       "      <td>67</td>\n",
       "      <td>Inexistentes</td>\n",
       "      <td>39.5</td>\n",
       "      <td>4</td>\n",
       "      <td>MG</td>\n",
       "      <td>Saudavel</td>\n",
       "    </tr>\n",
       "    <tr>\n",
       "      <td>2</td>\n",
       "      <td>4039</td>\n",
       "      <td>Luiz</td>\n",
       "      <td>49</td>\n",
       "      <td>M</td>\n",
       "      <td>500</td>\n",
       "      <td>Espalhadas</td>\n",
       "      <td>38.0</td>\n",
       "      <td>2</td>\n",
       "      <td>RS</td>\n",
       "      <td>Doente</td>\n",
       "    </tr>\n",
       "    <tr>\n",
       "      <td>3</td>\n",
       "      <td>1920</td>\n",
       "      <td>Jose</td>\n",
       "      <td>18</td>\n",
       "      <td>M</td>\n",
       "      <td>43</td>\n",
       "      <td>Inexistentes</td>\n",
       "      <td>38.5</td>\n",
       "      <td>8</td>\n",
       "      <td>MG</td>\n",
       "      <td>Saudavel</td>\n",
       "    </tr>\n",
       "    <tr>\n",
       "      <td>4</td>\n",
       "      <td>4340</td>\n",
       "      <td>Claudia</td>\n",
       "      <td>21</td>\n",
       "      <td>F</td>\n",
       "      <td>52</td>\n",
       "      <td>Uniformes</td>\n",
       "      <td>38.5</td>\n",
       "      <td>1</td>\n",
       "      <td>PE</td>\n",
       "      <td>Doente</td>\n",
       "    </tr>\n",
       "    <tr>\n",
       "      <td>5</td>\n",
       "      <td>4340</td>\n",
       "      <td>Claudia</td>\n",
       "      <td>21</td>\n",
       "      <td>F</td>\n",
       "      <td>52</td>\n",
       "      <td>Uniformes</td>\n",
       "      <td>38.5</td>\n",
       "      <td>1</td>\n",
       "      <td>PE</td>\n",
       "      <td>Saudavel</td>\n",
       "    </tr>\n",
       "    <tr>\n",
       "      <td>6</td>\n",
       "      <td>2301</td>\n",
       "      <td>Ana</td>\n",
       "      <td>22</td>\n",
       "      <td>F</td>\n",
       "      <td>72</td>\n",
       "      <td>Inexistentes</td>\n",
       "      <td>58.0</td>\n",
       "      <td>3</td>\n",
       "      <td>RJ</td>\n",
       "      <td>Doente</td>\n",
       "    </tr>\n",
       "    <tr>\n",
       "      <td>7</td>\n",
       "      <td>2301</td>\n",
       "      <td>Ana</td>\n",
       "      <td>22</td>\n",
       "      <td>F</td>\n",
       "      <td>72</td>\n",
       "      <td>Inexistentes</td>\n",
       "      <td>58.0</td>\n",
       "      <td>3</td>\n",
       "      <td>RJ</td>\n",
       "      <td>Doente</td>\n",
       "    </tr>\n",
       "    <tr>\n",
       "      <td>8</td>\n",
       "      <td>2301</td>\n",
       "      <td>Ana</td>\n",
       "      <td>22</td>\n",
       "      <td>F</td>\n",
       "      <td>72</td>\n",
       "      <td>Inexistentes</td>\n",
       "      <td>58.0</td>\n",
       "      <td>3</td>\n",
       "      <td>RJ</td>\n",
       "      <td>Doente</td>\n",
       "    </tr>\n",
       "    <tr>\n",
       "      <td>9</td>\n",
       "      <td>1322</td>\n",
       "      <td>Marta</td>\n",
       "      <td>19</td>\n",
       "      <td>F</td>\n",
       "      <td>87</td>\n",
       "      <td>Espalhadas</td>\n",
       "      <td>39.0</td>\n",
       "      <td>6</td>\n",
       "      <td>AM</td>\n",
       "      <td>Saudavel</td>\n",
       "    </tr>\n",
       "    <tr>\n",
       "      <td>10</td>\n",
       "      <td>3027</td>\n",
       "      <td>Paulo</td>\n",
       "      <td>34</td>\n",
       "      <td>M</td>\n",
       "      <td>67</td>\n",
       "      <td>Uniformes</td>\n",
       "      <td>38.4</td>\n",
       "      <td>2</td>\n",
       "      <td>GO</td>\n",
       "      <td>Saudavel</td>\n",
       "    </tr>\n",
       "  </tbody>\n",
       "</table>\n",
       "</div>"
      ],
      "text/plain": [
       "    identificador     nome  idade sexo  peso       manchas  temperatura  \\\n",
       "0            4201     Joao     28    M    67  Concentradas         38.0   \n",
       "1            3217    Maria     18    F    67  Inexistentes         39.5   \n",
       "2            4039     Luiz     49    M   500    Espalhadas         38.0   \n",
       "3            1920     Jose     18    M    43  Inexistentes         38.5   \n",
       "4            4340  Claudia     21    F    52     Uniformes         38.5   \n",
       "5            4340  Claudia     21    F    52     Uniformes         38.5   \n",
       "6            2301      Ana     22    F    72  Inexistentes         58.0   \n",
       "7            2301      Ana     22    F    72  Inexistentes         58.0   \n",
       "8            2301      Ana     22    F    72  Inexistentes         58.0   \n",
       "9            1322    Marta     19    F    87    Espalhadas         39.0   \n",
       "10           3027    Paulo     34    M    67     Uniformes         38.4   \n",
       "\n",
       "    internacoes estado diagnostico  \n",
       "0             2     SP      Doente  \n",
       "1             4     MG    Saudavel  \n",
       "2             2     RS      Doente  \n",
       "3             8     MG    Saudavel  \n",
       "4             1     PE      Doente  \n",
       "5             1     PE    Saudavel  \n",
       "6             3     RJ      Doente  \n",
       "7             3     RJ      Doente  \n",
       "8             3     RJ      Doente  \n",
       "9             6     AM    Saudavel  \n",
       "10            2     GO    Saudavel  "
      ]
     },
     "execution_count": 6,
     "metadata": {},
     "output_type": "execute_result"
    }
   ],
   "source": [
    "import pandas as pd\n",
    "import numpy as np\n",
    "import statistics as st\n",
    "import matplotlib.pyplot as plt\n",
    "\n",
    "from sklearn import preprocessing\n",
    "from sklearn.preprocessing import RobustScaler\n",
    "from sklearn.decomposition import PCA\n",
    "\n",
    "df = pd.read_csv('entrada.csv', delimiter=\";\") #abrindo o arquivo\n",
    "df #print da variável df"
   ]
  },
  {
   "cell_type": "code",
   "execution_count": 7,
   "metadata": {},
   "outputs": [
    {
     "data": {
      "text/plain": [
       "identificador    3028.090909\n",
       "idade              24.909091\n",
       "peso              104.636364\n",
       "temperatura        43.854545\n",
       "internacoes         3.181818\n",
       "dtype: float64"
      ]
     },
     "execution_count": 7,
     "metadata": {},
     "output_type": "execute_result"
    }
   ],
   "source": [
    "df.mean()  #tira a mediana dos atributos numericos"
   ]
  },
  {
   "cell_type": "code",
   "execution_count": 8,
   "metadata": {},
   "outputs": [
    {
     "data": {
      "text/plain": [
       "F    0.636364\n",
       "M    0.363636\n",
       "Name: sexo, dtype: float64"
      ]
     },
     "execution_count": 8,
     "metadata": {},
     "output_type": "execute_result"
    }
   ],
   "source": [
    "x = df['sexo'].value_counts() #faz a contagem \n",
    "x/len(df)"
   ]
  },
  {
   "cell_type": "code",
   "execution_count": 11,
   "metadata": {},
   "outputs": [
    {
     "data": {
      "text/plain": [
       "Text(0, 0.5, 'Peso')"
      ]
     },
     "execution_count": 11,
     "metadata": {},
     "output_type": "execute_result"
    },
    {
     "data": {
      "image/png": "[encoded data removed]",
      "text/plain": [
       "<Figure size 432x288 with 1 Axes>"
      ]
     },
     "metadata": {
      "needs_background": "light"
     },
     "output_type": "display_data"
    }
   ],
   "source": [
    "plt.scatter(df.idade, df.peso) #faz um grafico desse tipo ai q relaciona os atributos (atributo1, atributo2)\n",
    "plt.xlabel('Idade') #muda o label\n",
    "plt.ylabel('Peso')"
   ]
  },
  {
   "cell_type": "code",
   "execution_count": 12,
   "metadata": {},
   "outputs": [
    {
     "data": {
      "text/plain": [
       "0    22\n",
       "dtype: int64"
      ]
     },
     "execution_count": 12,
     "metadata": {},
     "output_type": "execute_result"
    }
   ],
   "source": [
    "df['idade'].mode() # realiza o calculo da moda de um unico atributo"
   ]
  },
  {
   "cell_type": "code",
   "execution_count": 13,
   "metadata": {},
   "outputs": [
    {
     "data": {
      "text/plain": [
       "38.5"
      ]
     },
     "execution_count": 13,
     "metadata": {},
     "output_type": "execute_result"
    }
   ],
   "source": [
    "df['temperatura'].median() #realiza o calculo da media de um unico atributo"
   ]
  },
  {
   "cell_type": "code",
   "execution_count": null,
   "metadata": {},
   "outputs": [],
   "source": []
  }
 ],
 "metadata": {
  "kernelspec": {
   "display_name": "Python 3",
   "language": "python",
   "name": "python3"
  },
  "language_info": {
   "codemirror_mode": {
    "name": "ipython",
    "version": 3
   },
   "file_extension": ".py",
   "mimetype": "text/x-python",
   "name": "python",
   "nbconvert_exporter": "python",
   "pygments_lexer": "ipython3",
   "version": "3.7.4"
  }
 },
 "nbformat": 4,
 "nbformat_minor": 2
}
